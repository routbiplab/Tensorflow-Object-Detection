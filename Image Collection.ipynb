{
 "cells": [
  {
   "cell_type": "markdown",
   "id": "1ec4bbbc",
   "metadata": {},
   "source": [
    "# Install opencv"
   ]
  },
  {
   "cell_type": "code",
   "execution_count": 1,
   "id": "2f64c182",
   "metadata": {},
   "outputs": [
    {
     "name": "stdout",
     "output_type": "stream",
     "text": [
      "Collecting opencv-python\n",
      "  Downloading opencv_python-4.5.3.56-cp38-cp38-win_amd64.whl (34.9 MB)\n",
      "Collecting numpy>=1.17.3\n",
      "  Downloading numpy-1.21.2-cp38-cp38-win_amd64.whl (14.0 MB)\n",
      "Installing collected packages: numpy, opencv-python\n",
      "Successfully installed numpy-1.21.2 opencv-python-4.5.3.56\n"
     ]
    }
   ],
   "source": [
    "!pip install opencv-python"
   ]
  },
  {
   "cell_type": "code",
   "execution_count": 1,
   "id": "03856bdd",
   "metadata": {},
   "outputs": [],
   "source": [
    "# import opencv\n",
    "import cv2\n",
    "\n",
    "# import uuid : unique identifier for the images (unique names for each images)\n",
    "import uuid\n",
    "\n",
    "# import operating system\n",
    "import os\n",
    "\n",
    "# import time\n",
    "import time"
   ]
  },
  {
   "cell_type": "markdown",
   "id": "09de5575",
   "metadata": {},
   "source": [
    "# Define images to collect"
   ]
  },
  {
   "cell_type": "code",
   "execution_count": 5,
   "id": "8a6cf378",
   "metadata": {},
   "outputs": [],
   "source": [
    "## types of images we are collecting\n",
    "labels=[\"thumbsup\",\"thumbsdown\",\"thankyou\",\"livelong\"]\n",
    "## number of images for each type\n",
    "number_imgs=10"
   ]
  },
  {
   "cell_type": "code",
   "execution_count": null,
   "id": "37b09f2c",
   "metadata": {},
   "outputs": [],
   "source": []
  },
  {
   "cell_type": "markdown",
   "id": "68ff42d0",
   "metadata": {},
   "source": [
    "# Setup folders"
   ]
  },
  {
   "cell_type": "code",
   "execution_count": 3,
   "id": "cbd7b358",
   "metadata": {},
   "outputs": [],
   "source": [
    "IMAGE_PATH=os.path.join(\"Tensorflow\",\"workspace\",\"Images\",\"collectedimages\")\n",
    "\n",
    "if not os.path.exists(IMAGE_PATH):\n",
    "    if os.name == \"posix\": ## for linux\n",
    "        !mkdir -p {IMAGE_PATH}\n",
    "    if os.name == \"nt\": ## for windows\n",
    "        !mkdir {IMAGE_PATH}\n",
    "for label in labels:\n",
    "    path=os.path.join(IMAGE_PATH,label) ## path for each label\n",
    "    if not os.path.exists(path):\n",
    "        !mkdir {path}"
   ]
  },
  {
   "cell_type": "markdown",
   "id": "cc82ce8c",
   "metadata": {},
   "source": [
    "# Capture Images\n",
    "## We are going to capture 5 images in each of the image types folders"
   ]
  },
  {
   "cell_type": "code",
   "execution_count": 6,
   "id": "143066a5",
   "metadata": {},
   "outputs": [
    {
     "name": "stdout",
     "output_type": "stream",
     "text": [
      "Captuing images for livelong\n",
      "Capturing Image 0\n",
      "Capturing Image 1\n",
      "Capturing Image 2\n",
      "Capturing Image 3\n",
      "Capturing Image 4\n",
      "Capturing Image 5\n",
      "Capturing Image 6\n",
      "Capturing Image 7\n",
      "Capturing Image 8\n",
      "Capturing Image 9\n"
     ]
    }
   ],
   "source": [
    "for label in labels:\n",
    "    cap=cv2.VideoCapture(0) ## This will connect to your local webcam i.e 0\n",
    "    print(\"Captuing images for {}\".format(label))\n",
    "    time.sleep(5)\n",
    "    for image_num in range(number_imgs):\n",
    "        print(\"Capturing Image {}\".format(image_num))\n",
    "        ret,frame=cap.read()\n",
    "        image_name=os.path.join(IMAGE_PATH,label,label+\"_\"+\"{}.jpg\".format(str(uuid.uuid1())))\n",
    "        cv2.imwrite(image_name,frame)\n",
    "        cv2.imshow(\"frame\",frame)\n",
    "        time.sleep(3) ## wait for 3 seconds before capturing next image\n",
    "        \n",
    "        if cv2.waitKey(1) & 0xFF == ord(\"q\"): ## break from loop by pressing q key\n",
    "            break\n",
    "\n",
    "cap.release()\n",
    "cv2.destroyAllWindows()"
   ]
  },
  {
   "cell_type": "markdown",
   "id": "f9a178ca",
   "metadata": {},
   "source": [
    "# Image Labelling"
   ]
  },
  {
   "cell_type": "code",
   "execution_count": 1,
   "id": "1fda706a",
   "metadata": {},
   "outputs": [
    {
     "name": "stdout",
     "output_type": "stream",
     "text": [
      "Collecting pyqt5\n",
      "  Downloading PyQt5-5.15.4-cp36.cp37.cp38.cp39-none-win_amd64.whl (6.8 MB)\n",
      "Collecting lxml\n",
      "  Downloading lxml-4.6.3-cp38-cp38-win_amd64.whl (3.5 MB)\n",
      "Collecting PyQt5-Qt5>=5.15\n",
      "  Downloading PyQt5_Qt5-5.15.2-py3-none-win_amd64.whl (50.1 MB)\n",
      "Collecting PyQt5-sip<13,>=12.8\n",
      "  Downloading PyQt5_sip-12.9.0-cp38-cp38-win_amd64.whl (63 kB)\n",
      "Installing collected packages: PyQt5-sip, PyQt5-Qt5, pyqt5, lxml\n",
      "Successfully installed PyQt5-Qt5-5.15.2 PyQt5-sip-12.9.0 lxml-4.6.3 pyqt5-5.15.4\n"
     ]
    }
   ],
   "source": [
    "## LabelImg is a graphical image annotation tool.\n",
    "## It is written in Python and uses Qt for its graphical interface.\n",
    "\n",
    "!pip install --upgrade pyqt5 lxml"
   ]
  },
  {
   "cell_type": "code",
   "execution_count": 2,
   "id": "ef9da77e",
   "metadata": {},
   "outputs": [
    {
     "name": "stdout",
     "output_type": "stream",
     "text": [
      "Package           Version\n",
      "----------------- --------\n",
      "backcall          0.2.0\n",
      "colorama          0.4.4\n",
      "debugpy           1.4.3\n",
      "decorator         5.1.0\n",
      "entrypoints       0.3\n",
      "ipykernel         6.4.1\n",
      "ipython           7.27.0\n",
      "ipython-genutils  0.2.0\n",
      "jedi              0.18.0\n",
      "jupyter-client    7.0.3\n",
      "jupyter-core      4.8.1\n",
      "lxml              4.6.3\n",
      "matplotlib-inline 0.1.3\n",
      "nest-asyncio      1.5.1\n",
      "numpy             1.21.2\n",
      "opencv-python     4.5.3.56\n",
      "parso             0.8.2\n",
      "pickleshare       0.7.5\n",
      "pip               21.2.4\n",
      "prompt-toolkit    3.0.20\n",
      "Pygments          2.10.0Note: you may need to restart the kernel to use updated packages.\n",
      "PyQt5             5.15.4\n",
      "PyQt5-Qt5         5.15.2\n",
      "PyQt5-sip         12.9.0\n",
      "python-dateutil   2.8.2\n",
      "pywin32           301\n",
      "pyzmq             22.3.0\n",
      "setuptools        49.2.1\n",
      "six               1.16.0\n",
      "tornado           6.1\n",
      "\n",
      "traitlets         5.1.0\n",
      "wcwidth           0.2.5\n"
     ]
    }
   ],
   "source": [
    "pip list"
   ]
  },
  {
   "cell_type": "code",
   "execution_count": 7,
   "id": "cfb87bc7",
   "metadata": {},
   "outputs": [],
   "source": [
    "LABELIMG_PATH=os.path.join(\"Tensorflow\",\"labelimg\")"
   ]
  },
  {
   "cell_type": "code",
   "execution_count": 6,
   "id": "56ba98ac",
   "metadata": {},
   "outputs": [
    {
     "name": "stderr",
     "output_type": "stream",
     "text": [
      "Cloning into 'Tensorflow\\labelimg'...\n"
     ]
    }
   ],
   "source": [
    "if not os.path.exists(LABELIMG_PATH):\n",
    "    !mkdir {LABELIMG_PATH}\n",
    "    !git clone https://github.com/tzutalin/labelImg.git {LABELIMG_PATH}"
   ]
  },
  {
   "cell_type": "code",
   "execution_count": 8,
   "id": "24296ebb",
   "metadata": {},
   "outputs": [],
   "source": [
    "## Install Python, PyQt5 and install lxml.\n",
    "if os.name==\"posix\":\n",
    "    !cd {LABELIMG_PATH} && make qt5py3\n",
    "if os.name==\"nt\":\n",
    "    !cd {LABELIMG_PATH} && pyrcc5 -o libs/resources.py resources.qrc"
   ]
  },
  {
   "cell_type": "code",
   "execution_count": 8,
   "id": "159670a5",
   "metadata": {},
   "outputs": [
    {
     "name": "stdout",
     "output_type": "stream",
     "text": [
      "^C\n"
     ]
    }
   ],
   "source": [
    "## execute/open the label image tool\n",
    "!cd {LABELIMG_PATH} && python labelImg.py"
   ]
  },
  {
   "cell_type": "markdown",
   "id": "73c19410",
   "metadata": {},
   "source": [
    "# Training and Testing Data - Divide the images into training and testing data"
   ]
  },
  {
   "cell_type": "code",
   "execution_count": null,
   "id": "34a2b089",
   "metadata": {},
   "outputs": [],
   "source": []
  },
  {
   "cell_type": "code",
   "execution_count": null,
   "id": "25b8cd03",
   "metadata": {},
   "outputs": [],
   "source": []
  },
  {
   "cell_type": "code",
   "execution_count": null,
   "id": "0372760c",
   "metadata": {},
   "outputs": [],
   "source": []
  },
  {
   "cell_type": "code",
   "execution_count": null,
   "id": "9edf62ff",
   "metadata": {},
   "outputs": [],
   "source": []
  }
 ],
 "metadata": {
  "kernelspec": {
   "display_name": "tfod",
   "language": "python",
   "name": "tfod"
  },
  "language_info": {
   "codemirror_mode": {
    "name": "ipython",
    "version": 3
   },
   "file_extension": ".py",
   "mimetype": "text/x-python",
   "name": "python",
   "nbconvert_exporter": "python",
   "pygments_lexer": "ipython3",
   "version": "3.8.8"
  }
 },
 "nbformat": 4,
 "nbformat_minor": 5
}
